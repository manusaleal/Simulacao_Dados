{
  "nbformat": 4,
  "nbformat_minor": 0,
  "metadata": {
    "colab": {
      "provenance": []
    },
    "kernelspec": {
      "name": "python3",
      "display_name": "Python 3"
    },
    "language_info": {
      "name": "python"
    }
  },
  "cells": [
    {
      "cell_type": "markdown",
      "source": [
        "# Mini-Projeto: Simulação de Jogo de Dados\n",
        "## Objetivo\n",
        "\n",
        "Criar uma simulação para um jogo de dados. Essa simulação tem como objetivo reunir estatísticas para analisar a justiça do jogo, possíveis resultados e fazer previsões sobre jogos futuros.\n",
        "\n",
        "## Desafios do Projeto\n",
        "\n",
        "1. **Simulação de Dados**: Crie uma função que simule o lançamento de dois dados de seis lados (valores de 1 a 6). Esta função deve retornar a soma dos resultados dos dados.\n",
        "\n",
        "2. **Múltiplas Simulações**: Use a função do passo 1 para simular um grande número de jogos de dados (digamos, 1000 jogos). Armazene o resultado de cada jogo em um array NumPy.\n",
        "\n",
        "3. **Análise de Dados**: Agora, vamos analisar os resultados desses jogos. Calcule e imprima o seguinte:\n",
        "- A média dos resultados.\n",
        "- O lançamento máximo e mínimo.\n",
        "- O número de vezes que cada possível lançamento (2, 3, 4, 5, 6, 7, 8, 9, 10, 11 e 12) ocorreu.\n",
        "- Teste de Hipótese: Agora vamos fazer um pouco de teste de hipóteses:\n",
        "  - Supondo um jogo justo (ou seja, todos os lançamentos são igualmente prováveis), o resultado da sua simulação coincide com essa suposição? Por que sim ou por que não?\n",
        "  - O que isso significa para um jogador do jogo de dados?"
      ],
      "metadata": {
        "id": "bkYPZf75YbQz"
      }
    },
    {
      "cell_type": "code",
      "execution_count": 1,
      "metadata": {
        "id": "ftiutsIbXpMM"
      },
      "outputs": [],
      "source": [
        "def lancamento_dados(N):\n",
        "  '''Esta função tem como objetivo simular o lançamento de 2 dados\n",
        "  e então somar o resultado obtido'''\n",
        "\n",
        "  #Gerando dois valores random para 2 dados de face 1-6\n",
        "  #Obs.: High value do randint é excludente-> por isso 7\n",
        "  dados=np.random.randint(1,7, size=(N,2))\n",
        "  return np.sum(dados,axis=1)#soma"
      ]
    },
    {
      "cell_type": "code",
      "source": [
        "import numpy as np\n",
        "\n",
        "try:\n",
        "  qtde_vezes=int(input('Quantos jogos ocorreram? (Ex.: 1000) '))\n",
        "except:\n",
        "  print('Por favor, insira um número inteiro.')\n",
        "  qtde_vezes=int(input('Quantos jogos ocorreram? (Ex.: 1000) '))\n",
        "\n",
        "multiplas_simu=lancamento_dados(qtde_vezes)"
      ],
      "metadata": {
        "colab": {
          "base_uri": "https://localhost:8080/"
        },
        "id": "ONifW-27ZUX2",
        "outputId": "f7a3bf80-8ee8-4435-80ce-332c6eb6e0b6"
      },
      "execution_count": 2,
      "outputs": [
        {
          "name": "stdout",
          "output_type": "stream",
          "text": [
            "Quantos jogos ocorreram? (Ex.: 1000) 1000\n"
          ]
        }
      ]
    },
    {
      "cell_type": "code",
      "source": [
        "#Média dos Resultados\n",
        "media=multiplas_simu.mean()\n",
        "print(f'Média dos Resultados: {media:.2f}')\n",
        "\n",
        "#Lançamento Máximo e Mínimo\n",
        "maximo=multiplas_simu.max()\n",
        "print(f'Lançamento Máximo: {maximo}')\n",
        "\n",
        "minimo=multiplas_simu.min()\n",
        "print(f'Lançamento Mínimo: {minimo}')\n",
        "\n",
        "#O número de vezes que cada possível lançamento ocorreu\n",
        "nr_vezes=np.unique(multiplas_simu, return_counts=True)\n",
        "dict_nr_elementos=dict(zip(nr_vezes[0],nr_vezes[1]))\n",
        "\n",
        "#Adicionando as somas que não ocorreram como chave, possuindo elemento igual a 0\n",
        "#(Caso ocorra para qtde de simulações baixa)\n",
        "for i in range (2,13):\n",
        "  if i not in dict_nr_elementos.keys():\n",
        "    dict_nr_elementos[i]=0\n",
        "\n",
        "dictlancamentos=dict(sorted(dict_nr_elementos.items()))\n",
        "print(f'Número de vezes que cada possível lançamento ocorreu: \\n{dictlancamentos}')\n"
      ],
      "metadata": {
        "id": "QKojeCKTVOBB",
        "colab": {
          "base_uri": "https://localhost:8080/"
        },
        "outputId": "f1f3013a-630b-4fb2-fe8d-e4ddb6b6e787"
      },
      "execution_count": 3,
      "outputs": [
        {
          "output_type": "stream",
          "name": "stdout",
          "text": [
            "Média dos Resultados: 6.82\n",
            "Lançamento Máximo: 12\n",
            "Lançamento Mínimo: 2\n",
            "Número de vezes que cada possível lançamento ocorreu: \n",
            "{2: 33, 3: 66, 4: 82, 5: 109, 6: 151, 7: 168, 8: 144, 9: 115, 10: 57, 11: 53, 12: 22}\n"
          ]
        }
      ]
    },
    {
      "cell_type": "markdown",
      "source": [
        "##Teste de Hipótese\n",
        "\n",
        "De forma lúdica, temos as seguintes probabilidades ao somar o resultado de 2 de dados:\n",
        "\n",
        "\n",
        "| Resultado | Combinações        |\n",
        "|---------  |-----------------|\n",
        "|    2      | (1,1)            |\n",
        "|    3      | (1,2),(2,1)      |\n",
        "|    4      | (1,3),(3,1),(2,2)   |\n",
        "|    5      | (2,3),(3,2),(1,4),(4,1)         |\n",
        "|    6      | (1,5),(5,1),(2,4),(4,2),(3,3) |\n",
        "|    7      | (1,6),(6,1),(2,5),(5,2),(3,4),(4,3)           |\n",
        "|    8     | (2,6),(6,2),(3,5),(5,3),(4,4)        |\n",
        "|    9     | (6,3),(3,6),(4,5),(5,4)        |\n",
        "|    10     | (4,6),(6,4),(5,5)        |\n",
        "|    11     | (6,5),(5,6)        |\n",
        "|    12     | (6,6)\n",
        "\n",
        "\n",
        "Isto resulta em 36 combinações. Então a probabilidade de sair cada soma em um lançamento é:\n",
        "\n",
        "| Resultado | Combinações                        | Probabilidade|\n",
        "|-----------|------------------------------------|--------------|\n",
        "|    2      | (1,1)                              | 1/36         |\n",
        "|    3      | (1,2),(2,1)                        | 2/36         |\n",
        "|    4      | (1,3),(3,1),(2,2)                  | 3/36         |\n",
        "|    5      | (2,3),(3,2),(1,4),(4,1)            | 4/36         |\n",
        "|    6      | (1,5),(5,1),(2,4),(4,2),(3,3)      | 5/36         |\n",
        "|    7      | (1,6),(6,1),(2,5),(5,2),(3,4),(4,3)| 6/36         |\n",
        "|    8      | (2,6),(6,2),(3,5),(5,3),(4,4)      | 5/36         |\n",
        "|    9      | (6,3),(3,6),(4,5),(5,4)            | 4/36         |\n",
        "|    10     | (4,6),(6,4),(5,5)                  | 3/36         |\n",
        "|    11     | (6,5),(5,6)                        | 2/36         |\n",
        "|    12     | (6,6)                              | 1/36         |\n",
        "\n",
        "\n",
        "Logo não há a possibilidade da probabilidade ser igual em todos os casos e é o que a simulação e a probabilidade mostra.\n",
        "\n",
        "Agora vamos calcular a probabilidade para multiplos eventos:"
      ],
      "metadata": {
        "id": "D2NcrS_-egnd"
      }
    },
    {
      "cell_type": "code",
      "source": [
        "#Calculando o resultado esperado lançando múltiplas vezes 2 dados através da\n",
        "#probabilidade\n",
        "prob=np.array([1/36, 2/36, 3/36, 4/36, 5/36, 6/36, 5/36, 4/35, 3/36, 2/36, 1/36])*qtde_vezes\n",
        "\n",
        "#Arredondando os valores obtidos\n",
        "prob=np.rint(prob)\n",
        "\n",
        "dict_res_esperado=dict(zip(nr_vezes[0],prob))\n",
        "print(f' Resultado esperado lançando múltiplas vezes 2 dados através da probabilidade: \\n{dict_res_esperado}')"
      ],
      "metadata": {
        "colab": {
          "base_uri": "https://localhost:8080/"
        },
        "id": "ovrfQqyUWMEA",
        "outputId": "b27d9ac9-c169-4527-dcf9-9394b4a8cdfd"
      },
      "execution_count": 4,
      "outputs": [
        {
          "output_type": "stream",
          "name": "stdout",
          "text": [
            " Resultado esperado lançando múltiplas vezes 2 dados através da probabilidade: \n",
            "{2: 28.0, 3: 56.0, 4: 83.0, 5: 111.0, 6: 139.0, 7: 167.0, 8: 139.0, 9: 114.0, 10: 83.0, 11: 56.0, 12: 28.0}\n"
          ]
        }
      ]
    },
    {
      "cell_type": "markdown",
      "source": [
        "Assim, temos a quantidade de resultados esperados em relação a soma de 2 dados lançados múltiplas vezes, através da probabilidade de cada soma ocorrer."
      ],
      "metadata": {
        "id": "EcTsXVb7bgOP"
      }
    },
    {
      "cell_type": "markdown",
      "source": [
        "Agora, vamos plotar a distribuição obtida versus a esperada para analisarmos:"
      ],
      "metadata": {
        "id": "KWK7r6cwWQYE"
      }
    },
    {
      "cell_type": "code",
      "source": [
        "import matplotlib.pyplot as plt\n",
        "\n",
        "#Visualizando a distribuição de probabilidades\n",
        "\n",
        "#passando as chaves para array para poder deslocar o eixo x e plotar barras\n",
        "#agrupadas\n",
        "chave1=np.array(list(dictlancamentos.keys()))\n",
        "chave2=np.array(list(dict_res_esperado.keys()))\n",
        "\n",
        "plt.bar(chave1+ 0.2, dictlancamentos.values(),0.4,label = 'Simulado')\n",
        "plt.axvline(x=media, color='red', label='Média Simulação')\n",
        "plt.bar(chave2- 0.2, dict_res_esperado.values(),0.4,label = 'Esperado')\n",
        "plt.xlabel('Resultado da soma')\n",
        "plt.ylabel('Ocorrências')\n",
        "plt.legend()\n",
        "plt.title('Múltiplas Simulações-Lançamento de 2 dados e sua soma')\n",
        "plt.show ()"
      ],
      "metadata": {
        "colab": {
          "base_uri": "https://localhost:8080/",
          "height": 472
        },
        "id": "r055aejlWFb5",
        "outputId": "c3021fb7-f7b8-408d-b8af-085f45e15204"
      },
      "execution_count": 18,
      "outputs": [
        {
          "output_type": "display_data",
          "data": {
            "text/plain": [
              "<Figure size 640x480 with 1 Axes>"
            ],
            "image/png": "[encoded data removed]"
          },
          "metadata": {}
        }
      ]
    },
    {
      "cell_type": "markdown",
      "source": [
        "Vemos que a ocorrência esperada através do cálculo de probabilidade de uma certa soma ocorrer em múltiplos lançamentos, versus a simulação realizada resultou em ocorrências muito próximas.\n",
        "\n",
        "Outro ponto é que visualizando a distribuição de probabilidades, podemos observar que ela se assemelha a de uma distribuição normal, sendo observado em fenômenos naturais. Logo, para um jogador de dados, é preferível apostar na soma 7, pois a probabilidade de sair esta soma é maior. Outro ponto é que a média avalia uma tendência central. Neste caso ela está bem centralizada no meio e na soma 7, reforçando este ponto.\n",
        "\n",
        "Portanto o modelo elaborado para gerar resultados esperados ao lançar 2 dados é bem próximo do resultado em uma simulação real. Mas vamos utilizar um teste de hipótese para validar, de fato este ponto.\n"
      ],
      "metadata": {
        "id": "12H0HxM9bn1K"
      }
    },
    {
      "cell_type": "markdown",
      "source": [
        "Irei utilizar o teste Qui-quadrado que avalia as diferenças entre os valores simulados e esperado e então availiar o p-valor diante da seguinte hipótese:\n",
        "\n",
        "1.   Hipótese Nula (H0): Os dados seguem a distribuição teórica das probabilidades esperadas para um lançamento justo de dois dados.\n",
        "2.   Hipótese Alternativa (H1): Os dados não seguem a distribuição teórica das probabilidades esperadas para um lançamento justo de dois dados."
      ],
      "metadata": {
        "id": "hE00iHvualBh"
      }
    },
    {
      "cell_type": "markdown",
      "source": [
        "Para isso, precisamos de um dataframe ou matriz. Irei utilizar o dataframe para este caso."
      ],
      "metadata": {
        "id": "4MXan_xD-Lav"
      }
    },
    {
      "cell_type": "code",
      "source": [
        "import pandas as pd\n",
        "\n",
        "#Transformando os dicts em tabelas com pandas\n",
        "dflancamentos=pd.DataFrame.from_dict(dictlancamentos,orient='index',columns=['Simulado'])\n",
        "dfesperado=pd.DataFrame.from_dict(dict_res_esperado,orient='index',columns=['Esperado'])\n",
        "\n",
        "#Observando os dataframes através das primeiras linhas\n",
        "#dflancamentos.head()\n",
        "dfesperado.head()"
      ],
      "metadata": {
        "colab": {
          "base_uri": "https://localhost:8080/",
          "height": 206
        },
        "id": "yht5XvPccGBN",
        "outputId": "5ff59c8b-c29b-4ce5-d9e0-51be72ce3c38"
      },
      "execution_count": 8,
      "outputs": [
        {
          "output_type": "execute_result",
          "data": {
            "text/plain": [
              "   Esperado\n",
              "2      28.0\n",
              "3      56.0\n",
              "4      83.0\n",
              "5     111.0\n",
              "6     139.0"
            ],
            "text/html": [
              "\n",
              "\n",
              "  <div id=\"df-782b05b7-2779-4df9-92e6-3c85497e04b8\">\n",
              "    <div class=\"colab-df-container\">\n",
              "      <div>\n",
              "<style scoped>\n",
              "    .dataframe tbody tr th:only-of-type {\n",
              "        vertical-align: middle;\n",
              "    }\n",
              "\n",
              "    .dataframe tbody tr th {\n",
              "        vertical-align: top;\n",
              "    }\n",
              "\n",
              "    .dataframe thead th {\n",
              "        text-align: right;\n",
              "    }\n",
              "</style>\n",
              "<table border=\"1\" class=\"dataframe\">\n",
              "  <thead>\n",
              "    <tr style=\"text-align: right;\">\n",
              "      <th></th>\n",
              "      <th>Esperado</th>\n",
              "    </tr>\n",
              "  </thead>\n",
              "  <tbody>\n",
              "    <tr>\n",
              "      <th>2</th>\n",
              "      <td>28.0</td>\n",
              "    </tr>\n",
              "    <tr>\n",
              "      <th>3</th>\n",
              "      <td>56.0</td>\n",
              "    </tr>\n",
              "    <tr>\n",
              "      <th>4</th>\n",
              "      <td>83.0</td>\n",
              "    </tr>\n",
              "    <tr>\n",
              "      <th>5</th>\n",
              "      <td>111.0</td>\n",
              "    </tr>\n",
              "    <tr>\n",
              "      <th>6</th>\n",
              "      <td>139.0</td>\n",
              "    </tr>\n",
              "  </tbody>\n",
              "</table>\n",
              "</div>\n",
              "      <button class=\"colab-df-convert\" onclick=\"convertToInteractive('df-782b05b7-2779-4df9-92e6-3c85497e04b8')\"\n",
              "              title=\"Convert this dataframe to an interactive table.\"\n",
              "              style=\"display:none;\">\n",
              "\n",
              "  <svg xmlns=\"http://www.w3.org/2000/svg\" height=\"24px\"viewBox=\"0 0 24 24\"\n",
              "       width=\"24px\">\n",
              "    <path d=\"M0 0h24v24H0V0z\" fill=\"none\"/>\n",
              "    <path d=\"M18.56 5.44l.94 2.06.94-2.06 2.06-.94-2.06-.94-.94-2.06-.94 2.06-2.06.94zm-11 1L8.5 8.5l.94-2.06 2.06-.94-2.06-.94L8.5 2.5l-.94 2.06-2.06.94zm10 10l.94 2.06.94-2.06 2.06-.94-2.06-.94-.94-2.06-.94 2.06-2.06.94z\"/><path d=\"M17.41 7.96l-1.37-1.37c-.4-.4-.92-.59-1.43-.59-.52 0-1.04.2-1.43.59L10.3 9.45l-7.72 7.72c-.78.78-.78 2.05 0 2.83L4 21.41c.39.39.9.59 1.41.59.51 0 1.02-.2 1.41-.59l7.78-7.78 2.81-2.81c.8-.78.8-2.07 0-2.86zM5.41 20L4 18.59l7.72-7.72 1.47 1.35L5.41 20z\"/>\n",
              "  </svg>\n",
              "      </button>\n",
              "\n",
              "\n",
              "\n",
              "    <div id=\"df-390a2633-1005-4bcf-8355-5b9ad5956c79\">\n",
              "      <button class=\"colab-df-quickchart\" onclick=\"quickchart('df-390a2633-1005-4bcf-8355-5b9ad5956c79')\"\n",
              "              title=\"Suggest charts.\"\n",
              "              style=\"display:none;\">\n",
              "\n",
              "<svg xmlns=\"http://www.w3.org/2000/svg\" height=\"24px\"viewBox=\"0 0 24 24\"\n",
              "     width=\"24px\">\n",
              "    <g>\n",
              "        <path d=\"M19 3H5c-1.1 0-2 .9-2 2v14c0 1.1.9 2 2 2h14c1.1 0 2-.9 2-2V5c0-1.1-.9-2-2-2zM9 17H7v-7h2v7zm4 0h-2V7h2v10zm4 0h-2v-4h2v4z\"/>\n",
              "    </g>\n",
              "</svg>\n",
              "      </button>\n",
              "    </div>\n",
              "\n",
              "<style>\n",
              "  .colab-df-quickchart {\n",
              "    background-color: #E8F0FE;\n",
              "    border: none;\n",
              "    border-radius: 50%;\n",
              "    cursor: pointer;\n",
              "    display: none;\n",
              "    fill: #1967D2;\n",
              "    height: 32px;\n",
              "    padding: 0 0 0 0;\n",
              "    width: 32px;\n",
              "  }\n",
              "\n",
              "  .colab-df-quickchart:hover {\n",
              "    background-color: #E2EBFA;\n",
              "    box-shadow: 0px 1px 2px rgba(60, 64, 67, 0.3), 0px 1px 3px 1px rgba(60, 64, 67, 0.15);\n",
              "    fill: #174EA6;\n",
              "  }\n",
              "\n",
              "  [theme=dark] .colab-df-quickchart {\n",
              "    background-color: #3B4455;\n",
              "    fill: #D2E3FC;\n",
              "  }\n",
              "\n",
              "  [theme=dark] .colab-df-quickchart:hover {\n",
              "    background-color: #434B5C;\n",
              "    box-shadow: 0px 1px 3px 1px rgba(0, 0, 0, 0.15);\n",
              "    filter: drop-shadow(0px 1px 2px rgba(0, 0, 0, 0.3));\n",
              "    fill: #FFFFFF;\n",
              "  }\n",
              "</style>\n",
              "\n",
              "    <script>\n",
              "      async function quickchart(key) {\n",
              "        const containerElement = document.querySelector('#' + key);\n",
              "        const charts = await google.colab.kernel.invokeFunction(\n",
              "            'suggestCharts', [key], {});\n",
              "      }\n",
              "    </script>\n",
              "\n",
              "      <script>\n",
              "\n",
              "function displayQuickchartButton(domScope) {\n",
              "  let quickchartButtonEl =\n",
              "    domScope.querySelector('#df-390a2633-1005-4bcf-8355-5b9ad5956c79 button.colab-df-quickchart');\n",
              "  quickchartButtonEl.style.display =\n",
              "    google.colab.kernel.accessAllowed ? 'block' : 'none';\n",
              "}\n",
              "\n",
              "        displayQuickchartButton(document);\n",
              "      </script>\n",
              "      <style>\n",
              "    .colab-df-container {\n",
              "      display:flex;\n",
              "      flex-wrap:wrap;\n",
              "      gap: 12px;\n",
              "    }\n",
              "\n",
              "    .colab-df-convert {\n",
              "      background-color: #E8F0FE;\n",
              "      border: none;\n",
              "      border-radius: 50%;\n",
              "      cursor: pointer;\n",
              "      display: none;\n",
              "      fill: #1967D2;\n",
              "      height: 32px;\n",
              "      padding: 0 0 0 0;\n",
              "      width: 32px;\n",
              "    }\n",
              "\n",
              "    .colab-df-convert:hover {\n",
              "      background-color: #E2EBFA;\n",
              "      box-shadow: 0px 1px 2px rgba(60, 64, 67, 0.3), 0px 1px 3px 1px rgba(60, 64, 67, 0.15);\n",
              "      fill: #174EA6;\n",
              "    }\n",
              "\n",
              "    [theme=dark] .colab-df-convert {\n",
              "      background-color: #3B4455;\n",
              "      fill: #D2E3FC;\n",
              "    }\n",
              "\n",
              "    [theme=dark] .colab-df-convert:hover {\n",
              "      background-color: #434B5C;\n",
              "      box-shadow: 0px 1px 3px 1px rgba(0, 0, 0, 0.15);\n",
              "      filter: drop-shadow(0px 1px 2px rgba(0, 0, 0, 0.3));\n",
              "      fill: #FFFFFF;\n",
              "    }\n",
              "  </style>\n",
              "\n",
              "      <script>\n",
              "        const buttonEl =\n",
              "          document.querySelector('#df-782b05b7-2779-4df9-92e6-3c85497e04b8 button.colab-df-convert');\n",
              "        buttonEl.style.display =\n",
              "          google.colab.kernel.accessAllowed ? 'block' : 'none';\n",
              "\n",
              "        async function convertToInteractive(key) {\n",
              "          const element = document.querySelector('#df-782b05b7-2779-4df9-92e6-3c85497e04b8');\n",
              "          const dataTable =\n",
              "            await google.colab.kernel.invokeFunction('convertToInteractive',\n",
              "                                                     [key], {});\n",
              "          if (!dataTable) return;\n",
              "\n",
              "          const docLinkHtml = 'Like what you see? Visit the ' +\n",
              "            '<a target=\"_blank\" href=https://colab.research.google.com/notebooks/data_table.ipynb>data table notebook</a>'\n",
              "            + ' to learn more about interactive tables.';\n",
              "          element.innerHTML = '';\n",
              "          dataTable['output_type'] = 'display_data';\n",
              "          await google.colab.output.renderOutput(dataTable, element);\n",
              "          const docLink = document.createElement('div');\n",
              "          docLink.innerHTML = docLinkHtml;\n",
              "          element.appendChild(docLink);\n",
              "        }\n",
              "      </script>\n",
              "    </div>\n",
              "  </div>\n"
            ]
          },
          "metadata": {},
          "execution_count": 8
        }
      ]
    },
    {
      "cell_type": "code",
      "source": [
        "#Concatenando os dois dataframes criados\n",
        "ctab=pd.concat([dflancamentos,dfesperado], axis=1)\n",
        "\n",
        "ctab.head()"
      ],
      "metadata": {
        "colab": {
          "base_uri": "https://localhost:8080/",
          "height": 206
        },
        "id": "a7ZzvYSDdxDU",
        "outputId": "83da8168-7ff4-4769-fa2b-da39c2b268d3"
      },
      "execution_count": 9,
      "outputs": [
        {
          "output_type": "execute_result",
          "data": {
            "text/plain": [
              "   Simulado  Esperado\n",
              "2        33      28.0\n",
              "3        66      56.0\n",
              "4        82      83.0\n",
              "5       109     111.0\n",
              "6       151     139.0"
            ],
            "text/html": [
              "\n",
              "\n",
              "  <div id=\"df-0bb3653c-1017-4f61-be1b-9a1089d3b5b2\">\n",
              "    <div class=\"colab-df-container\">\n",
              "      <div>\n",
              "<style scoped>\n",
              "    .dataframe tbody tr th:only-of-type {\n",
              "        vertical-align: middle;\n",
              "    }\n",
              "\n",
              "    .dataframe tbody tr th {\n",
              "        vertical-align: top;\n",
              "    }\n",
              "\n",
              "    .dataframe thead th {\n",
              "        text-align: right;\n",
              "    }\n",
              "</style>\n",
              "<table border=\"1\" class=\"dataframe\">\n",
              "  <thead>\n",
              "    <tr style=\"text-align: right;\">\n",
              "      <th></th>\n",
              "      <th>Simulado</th>\n",
              "      <th>Esperado</th>\n",
              "    </tr>\n",
              "  </thead>\n",
              "  <tbody>\n",
              "    <tr>\n",
              "      <th>2</th>\n",
              "      <td>33</td>\n",
              "      <td>28.0</td>\n",
              "    </tr>\n",
              "    <tr>\n",
              "      <th>3</th>\n",
              "      <td>66</td>\n",
              "      <td>56.0</td>\n",
              "    </tr>\n",
              "    <tr>\n",
              "      <th>4</th>\n",
              "      <td>82</td>\n",
              "      <td>83.0</td>\n",
              "    </tr>\n",
              "    <tr>\n",
              "      <th>5</th>\n",
              "      <td>109</td>\n",
              "      <td>111.0</td>\n",
              "    </tr>\n",
              "    <tr>\n",
              "      <th>6</th>\n",
              "      <td>151</td>\n",
              "      <td>139.0</td>\n",
              "    </tr>\n",
              "  </tbody>\n",
              "</table>\n",
              "</div>\n",
              "      <button class=\"colab-df-convert\" onclick=\"convertToInteractive('df-0bb3653c-1017-4f61-be1b-9a1089d3b5b2')\"\n",
              "              title=\"Convert this dataframe to an interactive table.\"\n",
              "              style=\"display:none;\">\n",
              "\n",
              "  <svg xmlns=\"http://www.w3.org/2000/svg\" height=\"24px\"viewBox=\"0 0 24 24\"\n",
              "       width=\"24px\">\n",
              "    <path d=\"M0 0h24v24H0V0z\" fill=\"none\"/>\n",
              "    <path d=\"M18.56 5.44l.94 2.06.94-2.06 2.06-.94-2.06-.94-.94-2.06-.94 2.06-2.06.94zm-11 1L8.5 8.5l.94-2.06 2.06-.94-2.06-.94L8.5 2.5l-.94 2.06-2.06.94zm10 10l.94 2.06.94-2.06 2.06-.94-2.06-.94-.94-2.06-.94 2.06-2.06.94z\"/><path d=\"M17.41 7.96l-1.37-1.37c-.4-.4-.92-.59-1.43-.59-.52 0-1.04.2-1.43.59L10.3 9.45l-7.72 7.72c-.78.78-.78 2.05 0 2.83L4 21.41c.39.39.9.59 1.41.59.51 0 1.02-.2 1.41-.59l7.78-7.78 2.81-2.81c.8-.78.8-2.07 0-2.86zM5.41 20L4 18.59l7.72-7.72 1.47 1.35L5.41 20z\"/>\n",
              "  </svg>\n",
              "      </button>\n",
              "\n",
              "\n",
              "\n",
              "    <div id=\"df-d8634557-e63e-4660-8916-874ba7bcfba6\">\n",
              "      <button class=\"colab-df-quickchart\" onclick=\"quickchart('df-d8634557-e63e-4660-8916-874ba7bcfba6')\"\n",
              "              title=\"Suggest charts.\"\n",
              "              style=\"display:none;\">\n",
              "\n",
              "<svg xmlns=\"http://www.w3.org/2000/svg\" height=\"24px\"viewBox=\"0 0 24 24\"\n",
              "     width=\"24px\">\n",
              "    <g>\n",
              "        <path d=\"M19 3H5c-1.1 0-2 .9-2 2v14c0 1.1.9 2 2 2h14c1.1 0 2-.9 2-2V5c0-1.1-.9-2-2-2zM9 17H7v-7h2v7zm4 0h-2V7h2v10zm4 0h-2v-4h2v4z\"/>\n",
              "    </g>\n",
              "</svg>\n",
              "      </button>\n",
              "    </div>\n",
              "\n",
              "<style>\n",
              "  .colab-df-quickchart {\n",
              "    background-color: #E8F0FE;\n",
              "    border: none;\n",
              "    border-radius: 50%;\n",
              "    cursor: pointer;\n",
              "    display: none;\n",
              "    fill: #1967D2;\n",
              "    height: 32px;\n",
              "    padding: 0 0 0 0;\n",
              "    width: 32px;\n",
              "  }\n",
              "\n",
              "  .colab-df-quickchart:hover {\n",
              "    background-color: #E2EBFA;\n",
              "    box-shadow: 0px 1px 2px rgba(60, 64, 67, 0.3), 0px 1px 3px 1px rgba(60, 64, 67, 0.15);\n",
              "    fill: #174EA6;\n",
              "  }\n",
              "\n",
              "  [theme=dark] .colab-df-quickchart {\n",
              "    background-color: #3B4455;\n",
              "    fill: #D2E3FC;\n",
              "  }\n",
              "\n",
              "  [theme=dark] .colab-df-quickchart:hover {\n",
              "    background-color: #434B5C;\n",
              "    box-shadow: 0px 1px 3px 1px rgba(0, 0, 0, 0.15);\n",
              "    filter: drop-shadow(0px 1px 2px rgba(0, 0, 0, 0.3));\n",
              "    fill: #FFFFFF;\n",
              "  }\n",
              "</style>\n",
              "\n",
              "    <script>\n",
              "      async function quickchart(key) {\n",
              "        const containerElement = document.querySelector('#' + key);\n",
              "        const charts = await google.colab.kernel.invokeFunction(\n",
              "            'suggestCharts', [key], {});\n",
              "      }\n",
              "    </script>\n",
              "\n",
              "      <script>\n",
              "\n",
              "function displayQuickchartButton(domScope) {\n",
              "  let quickchartButtonEl =\n",
              "    domScope.querySelector('#df-d8634557-e63e-4660-8916-874ba7bcfba6 button.colab-df-quickchart');\n",
              "  quickchartButtonEl.style.display =\n",
              "    google.colab.kernel.accessAllowed ? 'block' : 'none';\n",
              "}\n",
              "\n",
              "        displayQuickchartButton(document);\n",
              "      </script>\n",
              "      <style>\n",
              "    .colab-df-container {\n",
              "      display:flex;\n",
              "      flex-wrap:wrap;\n",
              "      gap: 12px;\n",
              "    }\n",
              "\n",
              "    .colab-df-convert {\n",
              "      background-color: #E8F0FE;\n",
              "      border: none;\n",
              "      border-radius: 50%;\n",
              "      cursor: pointer;\n",
              "      display: none;\n",
              "      fill: #1967D2;\n",
              "      height: 32px;\n",
              "      padding: 0 0 0 0;\n",
              "      width: 32px;\n",
              "    }\n",
              "\n",
              "    .colab-df-convert:hover {\n",
              "      background-color: #E2EBFA;\n",
              "      box-shadow: 0px 1px 2px rgba(60, 64, 67, 0.3), 0px 1px 3px 1px rgba(60, 64, 67, 0.15);\n",
              "      fill: #174EA6;\n",
              "    }\n",
              "\n",
              "    [theme=dark] .colab-df-convert {\n",
              "      background-color: #3B4455;\n",
              "      fill: #D2E3FC;\n",
              "    }\n",
              "\n",
              "    [theme=dark] .colab-df-convert:hover {\n",
              "      background-color: #434B5C;\n",
              "      box-shadow: 0px 1px 3px 1px rgba(0, 0, 0, 0.15);\n",
              "      filter: drop-shadow(0px 1px 2px rgba(0, 0, 0, 0.3));\n",
              "      fill: #FFFFFF;\n",
              "    }\n",
              "  </style>\n",
              "\n",
              "      <script>\n",
              "        const buttonEl =\n",
              "          document.querySelector('#df-0bb3653c-1017-4f61-be1b-9a1089d3b5b2 button.colab-df-convert');\n",
              "        buttonEl.style.display =\n",
              "          google.colab.kernel.accessAllowed ? 'block' : 'none';\n",
              "\n",
              "        async function convertToInteractive(key) {\n",
              "          const element = document.querySelector('#df-0bb3653c-1017-4f61-be1b-9a1089d3b5b2');\n",
              "          const dataTable =\n",
              "            await google.colab.kernel.invokeFunction('convertToInteractive',\n",
              "                                                     [key], {});\n",
              "          if (!dataTable) return;\n",
              "\n",
              "          const docLinkHtml = 'Like what you see? Visit the ' +\n",
              "            '<a target=\"_blank\" href=https://colab.research.google.com/notebooks/data_table.ipynb>data table notebook</a>'\n",
              "            + ' to learn more about interactive tables.';\n",
              "          element.innerHTML = '';\n",
              "          dataTable['output_type'] = 'display_data';\n",
              "          await google.colab.output.renderOutput(dataTable, element);\n",
              "          const docLink = document.createElement('div');\n",
              "          docLink.innerHTML = docLinkHtml;\n",
              "          element.appendChild(docLink);\n",
              "        }\n",
              "      </script>\n",
              "    </div>\n",
              "  </div>\n"
            ]
          },
          "metadata": {},
          "execution_count": 9
        }
      ]
    },
    {
      "cell_type": "markdown",
      "source": [
        "Agora que já temos o dataframe, vamos aplicá-lo do teste qui-quadrado:"
      ],
      "metadata": {
        "id": "8fQ_-iyT-KJj"
      }
    },
    {
      "cell_type": "code",
      "source": [
        "import scipy.stats as stats\n",
        "\n",
        "#Chi-square test ou teste Qui-quadrado\n",
        "#chi=teste estatístico\n",
        "#p=pvalue\n",
        "#dof=degrais de liberdade\n",
        "#exp=frequência esperada\n",
        "chi, p, dof, exp=stats.chi2_contingency(ctab)\n",
        "print(f'Valor de Qui-quadrado (χ²)= {chi:.2f}')\n",
        "print(f'p-valor= {p*100:.2f} %')"
      ],
      "metadata": {
        "colab": {
          "base_uri": "https://localhost:8080/"
        },
        "id": "e5tHavcra5Ga",
        "outputId": "71df44bf-233f-4df8-98e3-b11fa559829a"
      },
      "execution_count": 15,
      "outputs": [
        {
          "output_type": "stream",
          "name": "stdout",
          "text": [
            "Valor de Qui-quadrado (χ²)= 7.47\n",
            "p-valor= 68.05 %\n"
          ]
        }
      ]
    },
    {
      "cell_type": "markdown",
      "source": [
        "Em estatística, podemos rejeitar a hipótese nula se o p-valor for menor do que 5 %.\n",
        "\n",
        "Utilizando o nível de significância de 5% e tendo que p-valor>5%, então **não** podemos rejeitar a hipótese nula de que os dados seguem a distribuição teórica das probabilidades esperadas para um lançamento justo de dois dados.\n",
        "\n",
        "Desde modo, foi provado também através do teste de hipótese que o lançamento de 2 dados N vezes não gera a mesma probabilidade para todas as somas, obedecendo as combinações, probabilidades e distribuição mencionados na tabela e gráfico acima."
      ],
      "metadata": {
        "id": "NGHzF69Hik49"
      }
    }
  ]
}