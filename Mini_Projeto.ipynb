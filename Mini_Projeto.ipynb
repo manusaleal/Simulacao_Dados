{
  "nbformat": 4,
  "nbformat_minor": 0,
  "metadata": {
    "colab": {
      "provenance": []
    },
    "kernelspec": {
      "name": "python3",
      "display_name": "Python 3"
    },
    "language_info": {
      "name": "python"
    }
  },
  "cells": [
    {
      "cell_type": "markdown",
      "source": [
        "# Mini-Projeto: Simulação de Jogo de Dados\n",
        "## Objetivo\n",
        "\n",
        "Criar uma simulação para um jogo de dados. Essa simulação tem como objetivo reunir estatísticas para analisar a justiça do jogo, possíveis resultados e fazer previsões sobre jogos futuros.\n",
        "\n",
        "## Desafios do Projeto\n",
        "\n",
        "1. **Simulação de Dados**: Crie uma função que simule o lançamento de dois dados de seis lados (valores de 1 a 6). Esta função deve retornar a soma dos resultados dos dados.\n",
        "\n",
        "2. **Múltiplas Simulações**: Use a função do passo 1 para simular um grande número de jogos de dados (digamos, 1000 jogos). Armazene o resultado de cada jogo em um array NumPy.\n",
        "\n",
        "3. **Análise de Dados**: Agora, vamos analisar os resultados desses jogos. Calcule e imprima o seguinte:\n",
        "- A média dos resultados.\n",
        "- O lançamento máximo e mínimo.\n",
        "- O número de vezes que cada possível lançamento (2, 3, 4, 5, 6, 7, 8, 9, 10, 11 e 12) ocorreu.\n",
        "- Teste de Hipótese: Agora vamos fazer um pouco de teste de hipóteses:\n",
        "  - Supondo um jogo justo (ou seja, todos os lançamentos são igualmente prováveis), o resultado da sua simulação coincide com essa suposição? Por que sim ou por que não?\n",
        "  - O que isso significa para um jogador do jogo de dados?"
      ],
      "metadata": {
        "id": "bkYPZf75YbQz"
      }
    },
    {
      "cell_type": "code",
      "execution_count": 1,
      "metadata": {
        "id": "ftiutsIbXpMM"
      },
      "outputs": [],
      "source": [
        "def lancamento_dados(N):\n",
        "  '''Esta função tem como objetivo simular o lançamento de 2 dados\n",
        "  e então somar o resultado obtido'''\n",
        "\n",
        "  #Gerando dois valores random para 2 dados de face 1-6\n",
        "  #Obs.: High value do randint é excludente-> por isso 7\n",
        "  dados=np.random.randint(1,7, size=(N,2))\n",
        "  return np.sum(dados,axis=1)#soma"
      ]
    },
    {
      "cell_type": "code",
      "source": [
        "import numpy as np\n",
        "\n",
        "try:\n",
        "  qtde_vezes=int(input('Quantos jogos ocorreram? (Ex.: 1000) '))\n",
        "except:\n",
        "  print('Por favor, insira um número inteiro.')\n",
        "  qtde_vezes=int(input('Quantos jogos ocorreram? (Ex.: 1000) '))\n",
        "\n",
        "multiplas_simu=lancamento_dados(qtde_vezes)"
      ],
      "metadata": {
        "colab": {
          "base_uri": "https://localhost:8080/"
        },
        "id": "ONifW-27ZUX2",
        "outputId": "5a073d5a-c9ea-4b45-daa2-07eb885bb8d6"
      },
      "execution_count": 2,
      "outputs": [
        {
          "name": "stdout",
          "output_type": "stream",
          "text": [
            "Quantos jogos ocorreram? (Ex.: 1000) 10000\n"
          ]
        }
      ]
    },
    {
      "cell_type": "code",
      "source": [
        "#Média dos Resultados\n",
        "media=multiplas_simu.mean()\n",
        "print(f'Média dos Resultados: {media:.2f}')\n",
        "\n",
        "#Lançamento Máximo e Mínimo\n",
        "maximo=multiplas_simu.max()\n",
        "print(f'Lançamento Máximo: {maximo}')\n",
        "\n",
        "minimo=multiplas_simu.min()\n",
        "print(f'Lançamento Mínimo: {minimo}')\n",
        "\n",
        "#O número de vezes que cada possível lançamento ocorreu\n",
        "nr_vezes=np.unique(multiplas_simu, return_counts=True)\n",
        "dict_nr_elementos=dict(zip(nr_vezes[0],nr_vezes[1]))\n",
        "\n",
        "#Adicionando as somas que não ocorreram como chave, possuindo elemento igual a 0\n",
        "#(Caso ocorra para qtde de simulações baixa)\n",
        "for i in range (2,13):\n",
        "  if i not in dict_nr_elementos.keys():\n",
        "    dict_nr_elementos[i]=0\n",
        "\n",
        "dictlancamentos=dict(sorted(dict_nr_elementos.items()))\n",
        "print(f'Número de vezes que cada possível lançamento ocorreu: \\n{dictlancamentos}')\n"
      ],
      "metadata": {
        "id": "QKojeCKTVOBB",
        "colab": {
          "base_uri": "https://localhost:8080/"
        },
        "outputId": "758520c2-2b52-4613-8098-1fc47938bdbe"
      },
      "execution_count": 3,
      "outputs": [
        {
          "output_type": "stream",
          "name": "stdout",
          "text": [
            "Média dos Resultados: 7.01\n",
            "Lançamento Máximo: 12\n",
            "Lançamento Mínimo: 2\n",
            "Número de vezes que cada possível lançamento ocorreu: \n",
            "{2: 285, 3: 535, 4: 856, 5: 1082, 6: 1356, 7: 1692, 8: 1400, 9: 1146, 10: 783, 11: 584, 12: 281}\n"
          ]
        }
      ]
    },
    {
      "cell_type": "markdown",
      "source": [
        "##Teste de Hipótese\n",
        "\n",
        "De forma lúdica, temos as seguintes probabilidades ao somar o resultado de 2 de dados:\n",
        "\n",
        "\n",
        "| Resultado | Combinações        |\n",
        "|---------  |-----------------|\n",
        "|    2      | (1,1)            |\n",
        "|    3      | (1,2),(2,1)      |\n",
        "|    4      | (1,3),(3,1),(2,2)   |\n",
        "|    5      | (2,3),(3,2),(1,4),(4,1)         |\n",
        "|    6      | (1,5),(5,1),(2,4),(4,2),(3,3) |\n",
        "|    7      | (1,6),(6,1),(2,5),(5,2),(3,4),(4,3)           |\n",
        "|    8     | (2,6),(6,2),(3,5),(5,3),(4,4)        |\n",
        "|    9     | (6,3),(3,6),(4,5),(5,4)        |\n",
        "|    10     | (4,6),(6,4),(5,5)        |\n",
        "|    11     | (6,5),(5,6)        |\n",
        "|    12     | (6,6)\n",
        "\n",
        "\n",
        "Isto resulta em 36 combinações. Então a probabilidade de sair cada soma em um lançamento é:\n",
        "\n",
        "| Resultado | Combinações                        | Probabilidade|\n",
        "|-----------|------------------------------------|--------------|\n",
        "|    2      | (1,1)                              | 1/36         |\n",
        "|    3      | (1,2),(2,1)                        | 2/36         |\n",
        "|    4      | (1,3),(3,1),(2,2)                  | 3/36         |\n",
        "|    5      | (2,3),(3,2),(1,4),(4,1)            | 4/36         |\n",
        "|    6      | (1,5),(5,1),(2,4),(4,2),(3,3)      | 5/36         |\n",
        "|    7      | (1,6),(6,1),(2,5),(5,2),(3,4),(4,3)| 6/36         |\n",
        "|    8      | (2,6),(6,2),(3,5),(5,3),(4,4)      | 5/36         |\n",
        "|    9      | (6,3),(3,6),(4,5),(5,4)            | 4/36         |\n",
        "|    10     | (4,6),(6,4),(5,5)                  | 3/36         |\n",
        "|    11     | (6,5),(5,6)                        | 2/36         |\n",
        "|    12     | (6,6)                              | 1/36         |\n",
        "\n",
        "\n",
        "Logo não há a possibilidade da probabilidade ser igual em todos os casos e é o que a simulação e a probabilidade mostra.\n",
        "\n",
        "Agora vamos calcular a probabilidade para multiplos eventos:"
      ],
      "metadata": {
        "id": "D2NcrS_-egnd"
      }
    },
    {
      "cell_type": "code",
      "source": [
        "#Calculando o resultado esperado lançando múltiplas vezes 2 dados através da\n",
        "#probabilidade\n",
        "prob=np.array([1/36, 2/36, 3/36, 4/36, 5/36, 6/36, 5/36, 4/35, 3/36, 2/36, 1/36])*qtde_vezes\n",
        "\n",
        "#Arredondando os valores obtidos\n",
        "prob=np.rint(prob)\n",
        "\n",
        "dict_res_esperado=dict(zip(nr_vezes[0],prob))\n",
        "print(f' Resultado esperado lançando múltiplas vezes 2 dados através da probabilidade: \\n{dict_res_esperado}')"
      ],
      "metadata": {
        "colab": {
          "base_uri": "https://localhost:8080/"
        },
        "id": "ovrfQqyUWMEA",
        "outputId": "005a26fd-0dce-47d2-ea5f-b00e4cfa0878"
      },
      "execution_count": 74,
      "outputs": [
        {
          "output_type": "stream",
          "name": "stdout",
          "text": [
            " Resultado esperado lançando múltiplas vezes 2 dados através da probabilidade: \n",
            "{2: 278.0, 3: 556.0, 4: 833.0, 5: 1111.0, 6: 1389.0, 7: 1667.0, 8: 1389.0, 9: 1143.0, 10: 833.0, 11: 556.0, 12: 278.0}\n"
          ]
        }
      ]
    },
    {
      "cell_type": "markdown",
      "source": [
        "Assim, temos a quantidade de resultados esperados em relação a soma de 2 dados lançados múltiplas vezes, através da probabilidade de cada soma ocorrer."
      ],
      "metadata": {
        "id": "EcTsXVb7bgOP"
      }
    },
    {
      "cell_type": "markdown",
      "source": [
        "Agora, vamos plotar a distribuição obtida versus a esperada para analisarmos:"
      ],
      "metadata": {
        "id": "KWK7r6cwWQYE"
      }
    },
    {
      "cell_type": "code",
      "source": [
        "import matplotlib.pyplot as plt\n",
        "\n",
        "#Visualizando a distribuição de probabilidades\n",
        "\n",
        "#passando as chaves para array para poder deslocar o eixo x e plotar barras\n",
        "#agrupadas\n",
        "chave1=np.array(list(dictlancamentos.keys()))\n",
        "chave2=np.array(list(dict_res_esperado.keys()))\n",
        "\n",
        "plt.bar(chave1+ 0.2, dictlancamentos.values(),0.4,label = 'Simulado')\n",
        "plt.bar(chave2- 0.2, dict_res_esperado.values(),0.4,label = 'Esperado')\n",
        "plt.xlabel('Resultado da soma')\n",
        "plt.ylabel('Ocorrências')\n",
        "plt.legend()\n",
        "plt.title('Múltiplas Simulações-Lançamento de 2 dados e sua soma')\n",
        "plt.show ()"
      ],
      "metadata": {
        "colab": {
          "base_uri": "https://localhost:8080/",
          "height": 472
        },
        "id": "r055aejlWFb5",
        "outputId": "99a9fc80-a8c5-465e-ccc2-45361fc33e25"
      },
      "execution_count": 73,
      "outputs": [
        {
          "output_type": "display_data",
          "data": {
            "text/plain": [
              "<Figure size 640x480 with 1 Axes>"
            ],
            "image/png": "[encoded data removed]"
          },
          "metadata": {}
        }
      ]
    },
    {
      "cell_type": "markdown",
      "source": [
        "Vemos que a ocorrência esperada através do cálculo de probabilidade de uma certa soma ocorrer em múltiplos lançamentos, versus a simulação realizada resultou em ocorrências muito próximas.\n",
        "\n",
        "Portanto o modelo elaborado para gerar resultados esperados ao lançar 2 dados é bem próximo do resultado em uma simulação real.\n",
        "\n",
        "Outro ponto é que visualizando a distribuição de probabilidades, podemos observar que ela se assemelha a de uma distribuição normal, sendo observado em fenômenos naturais. Logo, para um jogador de dados, é preferível apostar na soma 7, pois a probabilidade de sair esta soma é maior."
      ],
      "metadata": {
        "id": "12H0HxM9bn1K"
      }
    }
  ]
}