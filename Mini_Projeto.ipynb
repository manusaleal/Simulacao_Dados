{
  "nbformat": 4,
  "nbformat_minor": 0,
  "metadata": {
    "colab": {
      "provenance": []
    },
    "kernelspec": {
      "name": "python3",
      "display_name": "Python 3"
    },
    "language_info": {
      "name": "python"
    }
  },
  "cells": [
    {
      "cell_type": "markdown",
      "source": [
        "# Mini-Projeto: Simulação de Jogo de Dados\n",
        "## Objetivo\n",
        "\n",
        "Criar uma simulação para um jogo de dados. Essa simulação tem como objetivo reunir estatísticas para analisar a justiça do jogo, possíveis resultados e fazer previsões sobre jogos futuros.\n",
        "\n",
        "## Desafios do Projeto\n",
        "\n",
        "1. **Simulação de Dados**: Crie uma função que simule o lançamento de dois dados de seis lados (valores de 1 a 6). Esta função deve retornar a soma dos resultados dos dados.\n",
        "\n",
        "2. **Múltiplas Simulações**: Use a função do passo 1 para simular um grande número de jogos de dados (digamos, 1000 jogos). Armazene o resultado de cada jogo em um array NumPy.\n",
        "\n",
        "3. **Análise de Dados**: Agora, vamos analisar os resultados desses jogos. Calcule e imprima o seguinte:\n",
        "- A média dos resultados.\n",
        "- O lançamento máximo e mínimo.\n",
        "- O número de vezes que cada possível lançamento (2, 3, 4, 5, 6, 7, 8, 9, 10, 11 e 12) ocorreu.\n",
        "- Teste de Hipótese: Agora vamos fazer um pouco de teste de hipóteses:\n",
        "  - Supondo um jogo justo (ou seja, todos os lançamentos são igualmente prováveis), o resultado da sua simulação coincide com essa suposição? Por que sim ou por que não?\n",
        "  - O que isso significa para um jogador do jogo de dados?"
      ],
      "metadata": {
        "id": "bkYPZf75YbQz"
      }
    },
    {
      "cell_type": "code",
      "execution_count": 44,
      "metadata": {
        "id": "ftiutsIbXpMM"
      },
      "outputs": [],
      "source": [
        "def lancamento_dados(N):\n",
        "  '''Esta função tem como objetivo simular o lançamento de 2 dados\n",
        "  e então somar o resultado obtido'''\n",
        "\n",
        "  #Gerando dois valores random para 2 dados de face 1-6\n",
        "  #Obs.: High value do randint é excludente-> por isso 7\n",
        "  dados=np.random.randint(1,7, size=(N,2))\n",
        "  return np.sum(dados,axis=1)#soma"
      ]
    },
    {
      "cell_type": "code",
      "source": [
        "import numpy as np\n",
        "\n",
        "try:\n",
        "  qtde_vezes=int(input('Quantos jogos ocorreram? (Ex.: 1000) '))\n",
        "except:\n",
        "  print('Por favor, insira um número inteiro.')\n",
        "  qtde_vezes=int(input('Quantos jogos ocorreram? (Ex.: 1000) '))\n",
        "\n",
        "multiplas_simu=lancamento_dados(qtde_vezes)"
      ],
      "metadata": {
        "colab": {
          "base_uri": "https://localhost:8080/"
        },
        "id": "ONifW-27ZUX2",
        "outputId": "6b319ad2-3025-4508-b6f0-df814420d202"
      },
      "execution_count": 54,
      "outputs": [
        {
          "name": "stdout",
          "output_type": "stream",
          "text": [
            "Quantos jogos ocorreram? (Ex.: 1000) 1000\n"
          ]
        }
      ]
    },
    {
      "cell_type": "code",
      "source": [
        "#Média dos Resultados\n",
        "media=multiplas_simu.mean()\n",
        "print(f'Média dos Resultados: {media:.2f}')\n",
        "\n",
        "#Lançamento Máximo e Mínimo\n",
        "maximo=multiplas_simu.max()\n",
        "print(f'Lançamento Máximo: {maximo}')\n",
        "\n",
        "minimo=multiplas_simu.min()\n",
        "print(f'Lançamento Mínimo: {minimo}')\n",
        "\n",
        "#O número de vezes que cada possível lançamento ocorreu\n",
        "nr_vezes=np.unique(multiplas_simu, return_counts=True)\n",
        "dict_nr_elementos=dict(zip(nr_vezes[0],nr_vezes[1]))\n",
        "\n",
        "#Adicionando as somas que não ocorreram como chave, possuindo elemento igual a 0\n",
        "for i in range (2,13):\n",
        "  if i not in dict_nr_elementos.keys():\n",
        "    dict_nr_elementos[i]=0\n",
        "\n",
        "dictlancamentos=dict(sorted(dict_nr_elementos.items()))\n",
        "print(f'Número de vezes que cada possível lançamento ocorreu: \\n{dictlancamentos}')\n"
      ],
      "metadata": {
        "id": "QKojeCKTVOBB",
        "colab": {
          "base_uri": "https://localhost:8080/"
        },
        "outputId": "40a7609c-2d0c-4594-efe1-8fee2ba5a758"
      },
      "execution_count": 55,
      "outputs": [
        {
          "output_type": "stream",
          "name": "stdout",
          "text": [
            "Média dos Resultados: 6.97\n",
            "Lançamento Máximo: 12\n",
            "Lançamento Mínimo: 2\n",
            "Número de vezes que cada possível lançamento ocorreu: \n",
            "{2: 24, 3: 60, 4: 90, 5: 110, 6: 125, 7: 189, 8: 140, 9: 95, 10: 80, 11: 58, 12: 29}\n"
          ]
        }
      ]
    },
    {
      "cell_type": "markdown",
      "source": [
        "##Teste de Hipótese\n",
        "\n",
        "De forma lúdica, temos as seguintes probabilidades ao somar o resultado de 2 pares de dados:\n",
        "\n",
        "\n",
        "| Resultado | Combinações        |\n",
        "|---------  |-----------------|\n",
        "|    2      | (1,1)            |\n",
        "|    3      | (1,2),(2,1)      |\n",
        "|    4      | (1,3),(3,1),(2,2)   |\n",
        "|    5      | (2,3),(3,2),(1,4),(4,1)         |\n",
        "|    6      | (1,5),(5,1),(2,4),(4,2),(3,3) |\n",
        "|    7      | (1,6),(6,1),(2,5),(5,2),(3,4),(4,3)           |\n",
        "|    8     | (2,6),(6,2),(3,5),(5,3),(4,4)        |\n",
        "|    9     | (6,3),(3,6),(4,5),(5,4)        |\n",
        "|    10     | (4,6),(6,4),(5,5)        |\n",
        "|    11     | (6,5),(5,6)        |\n",
        "|    12     | (6,6)\n",
        "\n",
        "Logo não há a possibilidade da probabilidade ser igual em todos os casos e é o que a simulação provou. Podemos ver a mesma distribuição no gráfico plotado abaixo:"
      ],
      "metadata": {
        "id": "D2NcrS_-egnd"
      }
    },
    {
      "cell_type": "code",
      "source": [
        "import matplotlib.pyplot as plt\n",
        "\n",
        "#Viisualizando a distribuição de probabilidades\n",
        "plt.bar(dictlancamentos.keys(), dictlancamentos.values())\n",
        "plt.xlabel('Resultado da soma')\n",
        "plt.ylabel('Ocorrências')\n",
        "plt.title('Múltiplas Simulações-Lançamento de 2 dados e sua soma')\n",
        "plt.show ()"
      ],
      "metadata": {
        "colab": {
          "base_uri": "https://localhost:8080/",
          "height": 472
        },
        "id": "r055aejlWFb5",
        "outputId": "d31d7e05-4369-482d-cead-79bc997c0d38"
      },
      "execution_count": 73,
      "outputs": [
        {
          "output_type": "display_data",
          "data": {
            "text/plain": [
              "<Figure size 640x480 with 1 Axes>"
            ],
            "image/png": "[encoded data removed]"
          },
          "metadata": {}
        }
      ]
    },
    {
      "cell_type": "markdown",
      "source": [
        "Visualizando a distribuição de probabilidades, podemos observar que ela se assemelha a de uma distribuição normal, este que é normal em fenômenos naturais. Logo, para um jogador de dados, é preferível apostar na soma 7, pois a probabilidade de sair esta soma é maior."
      ],
      "metadata": {
        "id": "12H0HxM9bn1K"
      }
    }
  ]
}